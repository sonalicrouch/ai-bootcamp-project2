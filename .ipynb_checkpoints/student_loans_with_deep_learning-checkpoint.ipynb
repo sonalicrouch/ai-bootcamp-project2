{
 "cells": [
  {
   "cell_type": "markdown",
   "metadata": {
    "id": "Ws76R19ZDhS1"
   },
   "source": [
    "# Student Loan Risk with Deep Learning"
   ]
  },
  {
   "cell_type": "code",
   "execution_count": 3,
   "metadata": {
    "id": "530BvdXdDhS2"
   },
   "outputs": [],
   "source": [
    "# Imports\n",
    "import pandas as pd\n",
    "from pathlib import Path\n",
    "import tensorflow as tf\n",
    "from tensorflow.keras.layers import Dense\n",
    "from tensorflow.keras.models import Sequential\n",
    "from sklearn.model_selection import train_test_split\n",
    "from sklearn.preprocessing import StandardScaler"
   ]
  },
  {
   "cell_type": "markdown",
   "metadata": {
    "id": "dATNCDLvDhS4"
   },
   "source": [
    "---\n",
    "\n",
    "## Prepare the data to be used on a neural network model"
   ]
  },
  {
   "cell_type": "markdown",
   "metadata": {
    "id": "KpfzjZ6FDhS4"
   },
   "source": [
    "### Step 1: Read the `student_loans.csv` file into a Pandas DataFrame. Review the DataFrame, looking for columns that could eventually define your features and target variables.   "
   ]
  },
  {
   "cell_type": "code",
   "execution_count": 4,
   "metadata": {
    "colab": {
     "base_uri": "https://localhost:8080/",
     "height": 226
    },
    "id": "nlV89tEkDhS4",
    "outputId": "6f06449f-a183-4b6c-fb0d-75c5f4ae94b9"
   },
   "outputs": [
    {
     "data": {
      "text/html": [
       "<div>\n",
       "<style scoped>\n",
       "    .dataframe tbody tr th:only-of-type {\n",
       "        vertical-align: middle;\n",
       "    }\n",
       "\n",
       "    .dataframe tbody tr th {\n",
       "        vertical-align: top;\n",
       "    }\n",
       "\n",
       "    .dataframe thead th {\n",
       "        text-align: right;\n",
       "    }\n",
       "</style>\n",
       "<table border=\"1\" class=\"dataframe\">\n",
       "  <thead>\n",
       "    <tr style=\"text-align: right;\">\n",
       "      <th></th>\n",
       "      <th>payment_history</th>\n",
       "      <th>location_parameter</th>\n",
       "      <th>stem_degree_score</th>\n",
       "      <th>gpa_ranking</th>\n",
       "      <th>alumni_success</th>\n",
       "      <th>study_major_code</th>\n",
       "      <th>time_to_completion</th>\n",
       "      <th>finance_workshop_score</th>\n",
       "      <th>cohort_ranking</th>\n",
       "      <th>total_loan_score</th>\n",
       "      <th>financial_aid_score</th>\n",
       "      <th>credit_ranking</th>\n",
       "    </tr>\n",
       "  </thead>\n",
       "  <tbody>\n",
       "    <tr>\n",
       "      <th>0</th>\n",
       "      <td>7.4</td>\n",
       "      <td>0.70</td>\n",
       "      <td>0.00</td>\n",
       "      <td>1.9</td>\n",
       "      <td>0.076</td>\n",
       "      <td>11.0</td>\n",
       "      <td>34.0</td>\n",
       "      <td>0.9978</td>\n",
       "      <td>3.51</td>\n",
       "      <td>0.56</td>\n",
       "      <td>9.4</td>\n",
       "      <td>5</td>\n",
       "    </tr>\n",
       "    <tr>\n",
       "      <th>1</th>\n",
       "      <td>7.8</td>\n",
       "      <td>0.88</td>\n",
       "      <td>0.00</td>\n",
       "      <td>2.6</td>\n",
       "      <td>0.098</td>\n",
       "      <td>25.0</td>\n",
       "      <td>67.0</td>\n",
       "      <td>0.9968</td>\n",
       "      <td>3.20</td>\n",
       "      <td>0.68</td>\n",
       "      <td>9.8</td>\n",
       "      <td>5</td>\n",
       "    </tr>\n",
       "    <tr>\n",
       "      <th>2</th>\n",
       "      <td>7.8</td>\n",
       "      <td>0.76</td>\n",
       "      <td>0.04</td>\n",
       "      <td>2.3</td>\n",
       "      <td>0.092</td>\n",
       "      <td>15.0</td>\n",
       "      <td>54.0</td>\n",
       "      <td>0.9970</td>\n",
       "      <td>3.26</td>\n",
       "      <td>0.65</td>\n",
       "      <td>9.8</td>\n",
       "      <td>5</td>\n",
       "    </tr>\n",
       "    <tr>\n",
       "      <th>3</th>\n",
       "      <td>11.2</td>\n",
       "      <td>0.28</td>\n",
       "      <td>0.56</td>\n",
       "      <td>1.9</td>\n",
       "      <td>0.075</td>\n",
       "      <td>17.0</td>\n",
       "      <td>60.0</td>\n",
       "      <td>0.9980</td>\n",
       "      <td>3.16</td>\n",
       "      <td>0.58</td>\n",
       "      <td>9.8</td>\n",
       "      <td>6</td>\n",
       "    </tr>\n",
       "    <tr>\n",
       "      <th>4</th>\n",
       "      <td>7.4</td>\n",
       "      <td>0.70</td>\n",
       "      <td>0.00</td>\n",
       "      <td>1.9</td>\n",
       "      <td>0.076</td>\n",
       "      <td>11.0</td>\n",
       "      <td>34.0</td>\n",
       "      <td>0.9978</td>\n",
       "      <td>3.51</td>\n",
       "      <td>0.56</td>\n",
       "      <td>9.4</td>\n",
       "      <td>5</td>\n",
       "    </tr>\n",
       "  </tbody>\n",
       "</table>\n",
       "</div>"
      ],
      "text/plain": [
       "   payment_history  location_parameter  stem_degree_score  gpa_ranking  \\\n",
       "0              7.4                0.70               0.00          1.9   \n",
       "1              7.8                0.88               0.00          2.6   \n",
       "2              7.8                0.76               0.04          2.3   \n",
       "3             11.2                0.28               0.56          1.9   \n",
       "4              7.4                0.70               0.00          1.9   \n",
       "\n",
       "   alumni_success  study_major_code  time_to_completion  \\\n",
       "0           0.076              11.0                34.0   \n",
       "1           0.098              25.0                67.0   \n",
       "2           0.092              15.0                54.0   \n",
       "3           0.075              17.0                60.0   \n",
       "4           0.076              11.0                34.0   \n",
       "\n",
       "   finance_workshop_score  cohort_ranking  total_loan_score  \\\n",
       "0                  0.9978            3.51              0.56   \n",
       "1                  0.9968            3.20              0.68   \n",
       "2                  0.9970            3.26              0.65   \n",
       "3                  0.9980            3.16              0.58   \n",
       "4                  0.9978            3.51              0.56   \n",
       "\n",
       "   financial_aid_score  credit_ranking  \n",
       "0                  9.4               5  \n",
       "1                  9.8               5  \n",
       "2                  9.8               5  \n",
       "3                  9.8               6  \n",
       "4                  9.4               5  "
      ]
     },
     "execution_count": 4,
     "metadata": {},
     "output_type": "execute_result"
    }
   ],
   "source": [
    "# Read the csv into a Pandas DataFrame\n",
    "file_path = \"https://static.bc-edx.com/mbc/ai/m6/datasets/student_loans.csv\"\n",
    "df_student_loans = pd.read_csv(file_path)\n",
    "\n",
    "\n",
    "# Review the DataFrame\n",
    "df_student_loans.head()"
   ]
  },
  {
   "cell_type": "code",
   "execution_count": 5,
   "metadata": {
    "colab": {
     "base_uri": "https://localhost:8080/"
    },
    "id": "mxN-LYLsDhS4",
    "outputId": "7327f33a-e6a5-48ac-8575-21a1286399eb"
   },
   "outputs": [
    {
     "name": "stdout",
     "output_type": "stream",
     "text": [
      "payment_history           float64\n",
      "location_parameter        float64\n",
      "stem_degree_score         float64\n",
      "gpa_ranking               float64\n",
      "alumni_success            float64\n",
      "study_major_code          float64\n",
      "time_to_completion        float64\n",
      "finance_workshop_score    float64\n",
      "cohort_ranking            float64\n",
      "total_loan_score          float64\n",
      "financial_aid_score       float64\n",
      "credit_ranking              int64\n",
      "dtype: object\n"
     ]
    }
   ],
   "source": [
    "# Review the data types associated with the columns\n",
    "print(df_student_loans.dtypes)"
   ]
  },
  {
   "cell_type": "markdown",
   "metadata": {
    "id": "nrhQRvlYDhS5"
   },
   "source": [
    "### Step 2: Using the preprocessed data, create the features (`X`) and target (`y`) datasets. The target dataset should be defined by the preprocessed DataFrame column “credit_ranking”. The remaining columns should define the features dataset."
   ]
  },
  {
   "cell_type": "code",
   "execution_count": 6,
   "metadata": {
    "colab": {
     "base_uri": "https://localhost:8080/"
    },
    "id": "zt78TjYzDhS5",
    "outputId": "e46be4d4-3208-45fd-f620-8a4e7a6f06cb"
   },
   "outputs": [
    {
     "data": {
      "text/plain": [
       "array([5, 5, 5, 6, 5])"
      ]
     },
     "execution_count": 6,
     "metadata": {},
     "output_type": "execute_result"
    }
   ],
   "source": [
    "# Define the target set y using the credit_ranking column\n",
    "y = df_student_loans[\"credit_ranking\"].values\n",
    "\n",
    "\n",
    "# Display a sample of y\n",
    "y[:5]"
   ]
  },
  {
   "cell_type": "code",
   "execution_count": 7,
   "metadata": {
    "colab": {
     "base_uri": "https://localhost:8080/",
     "height": 444
    },
    "id": "7r6qZzf9DhS5",
    "outputId": "337708f9-a57d-44b1-9ddb-516f202f7aba"
   },
   "outputs": [
    {
     "data": {
      "text/html": [
       "<div>\n",
       "<style scoped>\n",
       "    .dataframe tbody tr th:only-of-type {\n",
       "        vertical-align: middle;\n",
       "    }\n",
       "\n",
       "    .dataframe tbody tr th {\n",
       "        vertical-align: top;\n",
       "    }\n",
       "\n",
       "    .dataframe thead th {\n",
       "        text-align: right;\n",
       "    }\n",
       "</style>\n",
       "<table border=\"1\" class=\"dataframe\">\n",
       "  <thead>\n",
       "    <tr style=\"text-align: right;\">\n",
       "      <th></th>\n",
       "      <th>payment_history</th>\n",
       "      <th>location_parameter</th>\n",
       "      <th>stem_degree_score</th>\n",
       "      <th>gpa_ranking</th>\n",
       "      <th>alumni_success</th>\n",
       "      <th>study_major_code</th>\n",
       "      <th>time_to_completion</th>\n",
       "      <th>finance_workshop_score</th>\n",
       "      <th>cohort_ranking</th>\n",
       "      <th>total_loan_score</th>\n",
       "      <th>financial_aid_score</th>\n",
       "    </tr>\n",
       "  </thead>\n",
       "  <tbody>\n",
       "    <tr>\n",
       "      <th>0</th>\n",
       "      <td>7.4</td>\n",
       "      <td>0.700</td>\n",
       "      <td>0.00</td>\n",
       "      <td>1.9</td>\n",
       "      <td>0.076</td>\n",
       "      <td>11.0</td>\n",
       "      <td>34.0</td>\n",
       "      <td>0.99780</td>\n",
       "      <td>3.51</td>\n",
       "      <td>0.56</td>\n",
       "      <td>9.4</td>\n",
       "    </tr>\n",
       "    <tr>\n",
       "      <th>1</th>\n",
       "      <td>7.8</td>\n",
       "      <td>0.880</td>\n",
       "      <td>0.00</td>\n",
       "      <td>2.6</td>\n",
       "      <td>0.098</td>\n",
       "      <td>25.0</td>\n",
       "      <td>67.0</td>\n",
       "      <td>0.99680</td>\n",
       "      <td>3.20</td>\n",
       "      <td>0.68</td>\n",
       "      <td>9.8</td>\n",
       "    </tr>\n",
       "    <tr>\n",
       "      <th>2</th>\n",
       "      <td>7.8</td>\n",
       "      <td>0.760</td>\n",
       "      <td>0.04</td>\n",
       "      <td>2.3</td>\n",
       "      <td>0.092</td>\n",
       "      <td>15.0</td>\n",
       "      <td>54.0</td>\n",
       "      <td>0.99700</td>\n",
       "      <td>3.26</td>\n",
       "      <td>0.65</td>\n",
       "      <td>9.8</td>\n",
       "    </tr>\n",
       "    <tr>\n",
       "      <th>3</th>\n",
       "      <td>11.2</td>\n",
       "      <td>0.280</td>\n",
       "      <td>0.56</td>\n",
       "      <td>1.9</td>\n",
       "      <td>0.075</td>\n",
       "      <td>17.0</td>\n",
       "      <td>60.0</td>\n",
       "      <td>0.99800</td>\n",
       "      <td>3.16</td>\n",
       "      <td>0.58</td>\n",
       "      <td>9.8</td>\n",
       "    </tr>\n",
       "    <tr>\n",
       "      <th>4</th>\n",
       "      <td>7.4</td>\n",
       "      <td>0.700</td>\n",
       "      <td>0.00</td>\n",
       "      <td>1.9</td>\n",
       "      <td>0.076</td>\n",
       "      <td>11.0</td>\n",
       "      <td>34.0</td>\n",
       "      <td>0.99780</td>\n",
       "      <td>3.51</td>\n",
       "      <td>0.56</td>\n",
       "      <td>9.4</td>\n",
       "    </tr>\n",
       "    <tr>\n",
       "      <th>...</th>\n",
       "      <td>...</td>\n",
       "      <td>...</td>\n",
       "      <td>...</td>\n",
       "      <td>...</td>\n",
       "      <td>...</td>\n",
       "      <td>...</td>\n",
       "      <td>...</td>\n",
       "      <td>...</td>\n",
       "      <td>...</td>\n",
       "      <td>...</td>\n",
       "      <td>...</td>\n",
       "    </tr>\n",
       "    <tr>\n",
       "      <th>1594</th>\n",
       "      <td>6.2</td>\n",
       "      <td>0.600</td>\n",
       "      <td>0.08</td>\n",
       "      <td>2.0</td>\n",
       "      <td>0.090</td>\n",
       "      <td>32.0</td>\n",
       "      <td>44.0</td>\n",
       "      <td>0.99490</td>\n",
       "      <td>3.45</td>\n",
       "      <td>0.58</td>\n",
       "      <td>10.5</td>\n",
       "    </tr>\n",
       "    <tr>\n",
       "      <th>1595</th>\n",
       "      <td>5.9</td>\n",
       "      <td>0.550</td>\n",
       "      <td>0.10</td>\n",
       "      <td>2.2</td>\n",
       "      <td>0.062</td>\n",
       "      <td>39.0</td>\n",
       "      <td>51.0</td>\n",
       "      <td>0.99512</td>\n",
       "      <td>3.52</td>\n",
       "      <td>0.76</td>\n",
       "      <td>11.2</td>\n",
       "    </tr>\n",
       "    <tr>\n",
       "      <th>1596</th>\n",
       "      <td>6.3</td>\n",
       "      <td>0.510</td>\n",
       "      <td>0.13</td>\n",
       "      <td>2.3</td>\n",
       "      <td>0.076</td>\n",
       "      <td>29.0</td>\n",
       "      <td>40.0</td>\n",
       "      <td>0.99574</td>\n",
       "      <td>3.42</td>\n",
       "      <td>0.75</td>\n",
       "      <td>11.0</td>\n",
       "    </tr>\n",
       "    <tr>\n",
       "      <th>1597</th>\n",
       "      <td>5.9</td>\n",
       "      <td>0.645</td>\n",
       "      <td>0.12</td>\n",
       "      <td>2.0</td>\n",
       "      <td>0.075</td>\n",
       "      <td>32.0</td>\n",
       "      <td>44.0</td>\n",
       "      <td>0.99547</td>\n",
       "      <td>3.57</td>\n",
       "      <td>0.71</td>\n",
       "      <td>10.2</td>\n",
       "    </tr>\n",
       "    <tr>\n",
       "      <th>1598</th>\n",
       "      <td>6.0</td>\n",
       "      <td>0.310</td>\n",
       "      <td>0.47</td>\n",
       "      <td>3.6</td>\n",
       "      <td>0.067</td>\n",
       "      <td>18.0</td>\n",
       "      <td>42.0</td>\n",
       "      <td>0.99549</td>\n",
       "      <td>3.39</td>\n",
       "      <td>0.66</td>\n",
       "      <td>11.0</td>\n",
       "    </tr>\n",
       "  </tbody>\n",
       "</table>\n",
       "<p>1599 rows × 11 columns</p>\n",
       "</div>"
      ],
      "text/plain": [
       "      payment_history  location_parameter  stem_degree_score  gpa_ranking  \\\n",
       "0                 7.4               0.700               0.00          1.9   \n",
       "1                 7.8               0.880               0.00          2.6   \n",
       "2                 7.8               0.760               0.04          2.3   \n",
       "3                11.2               0.280               0.56          1.9   \n",
       "4                 7.4               0.700               0.00          1.9   \n",
       "...               ...                 ...                ...          ...   \n",
       "1594              6.2               0.600               0.08          2.0   \n",
       "1595              5.9               0.550               0.10          2.2   \n",
       "1596              6.3               0.510               0.13          2.3   \n",
       "1597              5.9               0.645               0.12          2.0   \n",
       "1598              6.0               0.310               0.47          3.6   \n",
       "\n",
       "      alumni_success  study_major_code  time_to_completion  \\\n",
       "0              0.076              11.0                34.0   \n",
       "1              0.098              25.0                67.0   \n",
       "2              0.092              15.0                54.0   \n",
       "3              0.075              17.0                60.0   \n",
       "4              0.076              11.0                34.0   \n",
       "...              ...               ...                 ...   \n",
       "1594           0.090              32.0                44.0   \n",
       "1595           0.062              39.0                51.0   \n",
       "1596           0.076              29.0                40.0   \n",
       "1597           0.075              32.0                44.0   \n",
       "1598           0.067              18.0                42.0   \n",
       "\n",
       "      finance_workshop_score  cohort_ranking  total_loan_score  \\\n",
       "0                    0.99780            3.51              0.56   \n",
       "1                    0.99680            3.20              0.68   \n",
       "2                    0.99700            3.26              0.65   \n",
       "3                    0.99800            3.16              0.58   \n",
       "4                    0.99780            3.51              0.56   \n",
       "...                      ...             ...               ...   \n",
       "1594                 0.99490            3.45              0.58   \n",
       "1595                 0.99512            3.52              0.76   \n",
       "1596                 0.99574            3.42              0.75   \n",
       "1597                 0.99547            3.57              0.71   \n",
       "1598                 0.99549            3.39              0.66   \n",
       "\n",
       "      financial_aid_score  \n",
       "0                     9.4  \n",
       "1                     9.8  \n",
       "2                     9.8  \n",
       "3                     9.8  \n",
       "4                     9.4  \n",
       "...                   ...  \n",
       "1594                 10.5  \n",
       "1595                 11.2  \n",
       "1596                 11.0  \n",
       "1597                 10.2  \n",
       "1598                 11.0  \n",
       "\n",
       "[1599 rows x 11 columns]"
      ]
     },
     "execution_count": 7,
     "metadata": {},
     "output_type": "execute_result"
    }
   ],
   "source": [
    "# Define features set X by selecting all columns but credit_ranking\n",
    "X = df_student_loans.drop(columns=\"credit_ranking\").copy()\n",
    "\n",
    "# Review the features DataFrame\n",
    "X"
   ]
  },
  {
   "cell_type": "markdown",
   "metadata": {
    "id": "THRyxI_xDhS5"
   },
   "source": [
    "### Step 3: Split the features and target sets into training and testing datasets.\n"
   ]
  },
  {
   "cell_type": "code",
   "execution_count": 8,
   "metadata": {
    "id": "sdWaszskDhS6"
   },
   "outputs": [],
   "source": [
    "# Split the preprocessed data into a training and testing dataset\n",
    "# Assign the function a random_state equal to 1\n",
    "# Split training/test datasets\n",
    "X_train, X_test, y_train, y_test = train_test_split(X, y, random_state=1)\n"
   ]
  },
  {
   "cell_type": "markdown",
   "metadata": {
    "id": "WFQTAHEbZrmH"
   },
   "source": []
  },
  {
   "cell_type": "markdown",
   "metadata": {
    "id": "iBOWzsYKDhS6"
   },
   "source": [
    "### Step 4: Use scikit-learn's `StandardScaler` to scale the features data."
   ]
  },
  {
   "cell_type": "code",
   "execution_count": 9,
   "metadata": {
    "colab": {
     "base_uri": "https://localhost:8080/"
    },
    "id": "287HKLQGDhS6",
    "outputId": "a73342f1-1345-438c-92d7-2a41d71d1e07"
   },
   "outputs": [
    {
     "data": {
      "text/plain": [
       "array([[ 2.98410648e-01, -5.98664809e-01,  1.97121898e+00, ...,\n",
       "         1.66041846e+00,  9.78679995e-03,  1.30356137e-01],\n",
       "       [ 2.35188053e-01,  6.36708698e-01,  3.55273072e-03, ...,\n",
       "        -2.78554196e-01, -1.65499169e-01, -1.58255236e-01],\n",
       "       [ 1.30997217e+00, -9.91738198e-01,  1.64327460e+00, ...,\n",
       "        -7.63297359e-01,  2.43501426e-01,  8.99986465e-01],\n",
       "       ...,\n",
       "       [-7.13150871e-01, -8.79431516e-01,  9.87385854e-01, ...,\n",
       "         6.90932130e-01,  1.11993127e+00,  6.11375092e-01],\n",
       "       [-1.72471239e+00,  5.52478686e-01, -1.52685435e+00, ...,\n",
       "         1.93741455e+00, -8.08214390e-01, -4.46866610e-01],\n",
       "       [ 2.19508850e+00, -1.04789154e+00,  1.15135804e+00, ...,\n",
       "        -1.55810302e-03,  5.94073364e-01,  3.22763719e-01]])"
      ]
     },
     "execution_count": 9,
     "metadata": {},
     "output_type": "execute_result"
    }
   ],
   "source": [
    "# Create a StandardScaler instance\n",
    "scaler = StandardScaler()\n",
    "\n",
    "# Fit the scaler to the features training dataset\n",
    "X_train_scaled = scaler.fit_transform(X_train)\n",
    "\n",
    "# Fit the scaler to the features training dataset\n",
    "X_test_scaled = scaler.fit_transform(X_test)\n",
    "\n",
    "X_train_scaled\n",
    "X_test_scaled"
   ]
  },
  {
   "cell_type": "markdown",
   "metadata": {
    "id": "q-633p45DhS6"
   },
   "source": [
    "---\n",
    "\n",
    "## Compile and Evaluate a Model Using a Neural Network"
   ]
  },
  {
   "cell_type": "markdown",
   "metadata": {
    "id": "RzDi_ssKDhS6"
   },
   "source": [
    "### Step 1: Create a deep neural network by assigning the number of input features, the number of layers, and the number of neurons on each layer using Tensorflow’s Keras.\n",
    "\n",
    "> **Hint** You can start with a two-layer deep neural network model that uses the `relu` activation function for both layers.\n"
   ]
  },
  {
   "cell_type": "code",
   "execution_count": 10,
   "metadata": {
    "colab": {
     "base_uri": "https://localhost:8080/"
    },
    "id": "MASOmbJRDhS6",
    "outputId": "9fe3b832-20b7-457d-cb5e-e819e579180e"
   },
   "outputs": [
    {
     "data": {
      "text/plain": [
       "11"
      ]
     },
     "execution_count": 10,
     "metadata": {},
     "output_type": "execute_result"
    }
   ],
   "source": [
    "# Define the the number of inputs (features) to the model\n",
    "number_input_features = 11\n",
    "# Define the deep learning model\n",
    "# Review the number of features\n",
    "number_input_features"
   ]
  },
  {
   "cell_type": "code",
   "execution_count": 11,
   "metadata": {
    "id": "73Eo4NHNDhS6"
   },
   "outputs": [],
   "source": [
    "# Define the number of neurons in the output layer\n",
    "output=1\n"
   ]
  },
  {
   "cell_type": "code",
   "execution_count": 12,
   "metadata": {
    "colab": {
     "base_uri": "https://localhost:8080/"
    },
    "id": "7-7uFqRKDhS6",
    "outputId": "df210de4-ebeb-492d-c059-1767f4999503"
   },
   "outputs": [
    {
     "data": {
      "text/plain": [
       "9"
      ]
     },
     "execution_count": 12,
     "metadata": {},
     "output_type": "execute_result"
    }
   ],
   "source": [
    "# Define the number of hidden nodes for the first hidden layer\n",
    "hidden_nodes_layer1=9\n",
    "\n",
    "\n",
    "# Review the number hidden nodes in the first layer\n",
    "hidden_nodes_layer1"
   ]
  },
  {
   "cell_type": "code",
   "execution_count": 13,
   "metadata": {
    "colab": {
     "base_uri": "https://localhost:8080/"
    },
    "id": "MhWi5kJKDhS6",
    "outputId": "a1a30203-4f52-43f4-b99b-00559c3b4ea9"
   },
   "outputs": [
    {
     "data": {
      "text/plain": [
       "7"
      ]
     },
     "execution_count": 13,
     "metadata": {},
     "output_type": "execute_result"
    }
   ],
   "source": [
    "# Define the number of hidden nodes for the second hidden layer\n",
    "hidden_nodes_layer2=7\n",
    "\n",
    "# Review the number hidden nodes in the second layer\n",
    "hidden_nodes_layer2"
   ]
  },
  {
   "cell_type": "markdown",
   "metadata": {
    "id": "VHEEar9CQtIG"
   },
   "source": []
  },
  {
   "cell_type": "code",
   "execution_count": 14,
   "metadata": {
    "id": "Tkz9QXKVDhS6"
   },
   "outputs": [],
   "source": [
    "# Create the Sequential model instance\n",
    "nn_model = tf.keras.models.Sequential()"
   ]
  },
  {
   "cell_type": "code",
   "execution_count": 15,
   "metadata": {
    "id": "wo7XkA30DhS6"
   },
   "outputs": [],
   "source": [
    "# Add the first hidden layer\n",
    "nn_model.add(tf.keras.layers.Dense(units=hidden_nodes_layer1, activation=\"relu\", input_dim=number_input_features))\n",
    "\n",
    "\n"
   ]
  },
  {
   "cell_type": "code",
   "execution_count": 16,
   "metadata": {
    "id": "ubmpf2jADhS7"
   },
   "outputs": [],
   "source": [
    "# Add the second hidden layer\n",
    "nn_model.add(tf.keras.layers.Dense(units=hidden_nodes_layer2, activation=\"relu\"))"
   ]
  },
  {
   "cell_type": "code",
   "execution_count": 17,
   "metadata": {
    "id": "tS36Ii07DhS7"
   },
   "outputs": [],
   "source": [
    "# Add the output layer to the model specifying the number of output neurons and activation function\n",
    "nn_model.add(tf.keras.layers.Dense(units=1, activation=\"relu\"))"
   ]
  },
  {
   "cell_type": "code",
   "execution_count": 18,
   "metadata": {
    "colab": {
     "base_uri": "https://localhost:8080/"
    },
    "id": "yEl6nAknDhS7",
    "outputId": "06f0c771-09c1-4aef-f240-42377aa7838f"
   },
   "outputs": [
    {
     "name": "stdout",
     "output_type": "stream",
     "text": [
      "Model: \"sequential\"\n",
      "_________________________________________________________________\n",
      " Layer (type)                Output Shape              Param #   \n",
      "=================================================================\n",
      " dense (Dense)               (None, 9)                 108       \n",
      "                                                                 \n",
      " dense_1 (Dense)             (None, 7)                 70        \n",
      "                                                                 \n",
      " dense_2 (Dense)             (None, 1)                 8         \n",
      "                                                                 \n",
      "=================================================================\n",
      "Total params: 186 (744.00 Byte)\n",
      "Trainable params: 186 (744.00 Byte)\n",
      "Non-trainable params: 0 (0.00 Byte)\n",
      "_________________________________________________________________\n"
     ]
    }
   ],
   "source": [
    "# Display the Sequential model summary\n",
    "nn_model.summary()"
   ]
  },
  {
   "cell_type": "markdown",
   "metadata": {
    "id": "IMR2MI6uDhS7"
   },
   "source": [
    "### Step 2: Compile and fit the model using the `mse` loss function, the `adam` optimizer, and the `mse` evaluation metric.\n"
   ]
  },
  {
   "cell_type": "code",
   "execution_count": 19,
   "metadata": {
    "id": "rz72tfiZDhS7"
   },
   "outputs": [],
   "source": [
    "# Compile the Sequential model\n",
    "nn_model.compile(loss=\"mse\", optimizer=\"adam\", metrics=[\"mse\"])"
   ]
  },
  {
   "cell_type": "code",
   "execution_count": 20,
   "metadata": {
    "colab": {
     "base_uri": "https://localhost:8080/"
    },
    "id": "Yagrg6NSDhS7",
    "outputId": "e1a26848-f83c-43b0-a8b9-5b83d6e56028"
   },
   "outputs": [
    {
     "name": "stdout",
     "output_type": "stream",
     "text": [
      "Epoch 1/100\n",
      "38/38 [==============================] - 0s 377us/step - loss: 11.3283 - mse: 11.3283\n",
      "Epoch 2/100\n",
      "38/38 [==============================] - 0s 274us/step - loss: 7.2971 - mse: 7.2971\n",
      "Epoch 3/100\n",
      "38/38 [==============================] - 0s 287us/step - loss: 4.8794 - mse: 4.8794\n",
      "Epoch 4/100\n",
      "38/38 [==============================] - 0s 288us/step - loss: 3.4579 - mse: 3.4579\n",
      "Epoch 5/100\n",
      "38/38 [==============================] - 0s 309us/step - loss: 2.6311 - mse: 2.6311\n",
      "Epoch 6/100\n",
      "38/38 [==============================] - 0s 304us/step - loss: 2.1542 - mse: 2.1542\n",
      "Epoch 7/100\n",
      "38/38 [==============================] - 0s 301us/step - loss: 1.7965 - mse: 1.7965\n",
      "Epoch 8/100\n",
      "38/38 [==============================] - 0s 293us/step - loss: 1.5117 - mse: 1.5117\n",
      "Epoch 9/100\n",
      "38/38 [==============================] - 0s 300us/step - loss: 1.2541 - mse: 1.2541\n",
      "Epoch 10/100\n",
      "38/38 [==============================] - 0s 305us/step - loss: 1.0556 - mse: 1.0556\n",
      "Epoch 11/100\n",
      "38/38 [==============================] - 0s 306us/step - loss: 0.9286 - mse: 0.9286\n",
      "Epoch 12/100\n",
      "38/38 [==============================] - 0s 297us/step - loss: 0.8464 - mse: 0.8464\n",
      "Epoch 13/100\n",
      "38/38 [==============================] - 0s 293us/step - loss: 0.7813 - mse: 0.7813\n",
      "Epoch 14/100\n",
      "38/38 [==============================] - 0s 303us/step - loss: 0.7427 - mse: 0.7427\n",
      "Epoch 15/100\n",
      "38/38 [==============================] - 0s 305us/step - loss: 0.7103 - mse: 0.7103\n",
      "Epoch 16/100\n",
      "38/38 [==============================] - 0s 290us/step - loss: 0.6810 - mse: 0.6810\n",
      "Epoch 17/100\n",
      "38/38 [==============================] - 0s 305us/step - loss: 0.6566 - mse: 0.6566\n",
      "Epoch 18/100\n",
      "38/38 [==============================] - 0s 299us/step - loss: 0.6361 - mse: 0.6361\n",
      "Epoch 19/100\n",
      "38/38 [==============================] - 0s 298us/step - loss: 0.6238 - mse: 0.6238\n",
      "Epoch 20/100\n",
      "38/38 [==============================] - 0s 290us/step - loss: 0.6077 - mse: 0.6077\n",
      "Epoch 21/100\n",
      "38/38 [==============================] - 0s 306us/step - loss: 0.5915 - mse: 0.5915\n",
      "Epoch 22/100\n",
      "38/38 [==============================] - 0s 310us/step - loss: 0.5754 - mse: 0.5754\n",
      "Epoch 23/100\n",
      "38/38 [==============================] - 0s 302us/step - loss: 0.5681 - mse: 0.5681\n",
      "Epoch 24/100\n",
      "38/38 [==============================] - 0s 291us/step - loss: 0.5632 - mse: 0.5632\n",
      "Epoch 25/100\n",
      "38/38 [==============================] - 0s 310us/step - loss: 0.5525 - mse: 0.5525\n",
      "Epoch 26/100\n",
      "38/38 [==============================] - 0s 302us/step - loss: 0.5480 - mse: 0.5480\n",
      "Epoch 27/100\n",
      "38/38 [==============================] - 0s 288us/step - loss: 0.5452 - mse: 0.5452\n",
      "Epoch 28/100\n",
      "38/38 [==============================] - 0s 310us/step - loss: 0.5379 - mse: 0.5379\n",
      "Epoch 29/100\n",
      "38/38 [==============================] - 0s 308us/step - loss: 0.5292 - mse: 0.5292\n",
      "Epoch 30/100\n",
      "38/38 [==============================] - 0s 305us/step - loss: 0.5247 - mse: 0.5247\n",
      "Epoch 31/100\n",
      "38/38 [==============================] - 0s 288us/step - loss: 0.5342 - mse: 0.5342\n",
      "Epoch 32/100\n",
      "38/38 [==============================] - 0s 300us/step - loss: 0.5296 - mse: 0.5296\n",
      "Epoch 33/100\n",
      "38/38 [==============================] - 0s 307us/step - loss: 0.5125 - mse: 0.5125\n",
      "Epoch 34/100\n",
      "38/38 [==============================] - 0s 309us/step - loss: 0.5141 - mse: 0.5141\n",
      "Epoch 35/100\n",
      "38/38 [==============================] - 0s 294us/step - loss: 0.5100 - mse: 0.5100\n",
      "Epoch 36/100\n",
      "38/38 [==============================] - 0s 297us/step - loss: 0.5140 - mse: 0.5140\n",
      "Epoch 37/100\n",
      "38/38 [==============================] - 0s 305us/step - loss: 0.5068 - mse: 0.5068\n",
      "Epoch 38/100\n",
      "38/38 [==============================] - 0s 306us/step - loss: 0.5034 - mse: 0.5034\n",
      "Epoch 39/100\n",
      "38/38 [==============================] - 0s 287us/step - loss: 0.4991 - mse: 0.4991\n",
      "Epoch 40/100\n",
      "38/38 [==============================] - 0s 456us/step - loss: 0.5082 - mse: 0.5082\n",
      "Epoch 41/100\n",
      "38/38 [==============================] - 0s 287us/step - loss: 0.4947 - mse: 0.4947\n",
      "Epoch 42/100\n",
      "38/38 [==============================] - 0s 299us/step - loss: 0.4940 - mse: 0.4940\n",
      "Epoch 43/100\n",
      "38/38 [==============================] - 0s 297us/step - loss: 0.4898 - mse: 0.4898\n",
      "Epoch 44/100\n",
      "38/38 [==============================] - 0s 286us/step - loss: 0.4901 - mse: 0.4901\n",
      "Epoch 45/100\n",
      "38/38 [==============================] - 0s 303us/step - loss: 0.4931 - mse: 0.4931\n",
      "Epoch 46/100\n",
      "38/38 [==============================] - 0s 299us/step - loss: 0.4919 - mse: 0.4919\n",
      "Epoch 47/100\n",
      "38/38 [==============================] - 0s 306us/step - loss: 0.4940 - mse: 0.4940\n",
      "Epoch 48/100\n",
      "38/38 [==============================] - 0s 285us/step - loss: 0.4862 - mse: 0.4862\n",
      "Epoch 49/100\n",
      "38/38 [==============================] - 0s 298us/step - loss: 0.4972 - mse: 0.4972\n",
      "Epoch 50/100\n",
      "38/38 [==============================] - 0s 296us/step - loss: 0.4978 - mse: 0.4978\n",
      "Epoch 51/100\n",
      "38/38 [==============================] - 0s 286us/step - loss: 0.4904 - mse: 0.4904\n",
      "Epoch 52/100\n",
      "38/38 [==============================] - 0s 290us/step - loss: 0.4767 - mse: 0.4767\n",
      "Epoch 53/100\n",
      "38/38 [==============================] - 0s 305us/step - loss: 0.4753 - mse: 0.4753\n",
      "Epoch 54/100\n",
      "38/38 [==============================] - 0s 291us/step - loss: 0.4865 - mse: 0.4865\n",
      "Epoch 55/100\n",
      "38/38 [==============================] - 0s 286us/step - loss: 0.4791 - mse: 0.4791\n",
      "Epoch 56/100\n",
      "38/38 [==============================] - 0s 298us/step - loss: 0.4751 - mse: 0.4751\n",
      "Epoch 57/100\n",
      "38/38 [==============================] - 0s 300us/step - loss: 0.4751 - mse: 0.4751\n",
      "Epoch 58/100\n",
      "38/38 [==============================] - 0s 298us/step - loss: 0.4815 - mse: 0.4815\n",
      "Epoch 59/100\n",
      "38/38 [==============================] - 0s 291us/step - loss: 0.4743 - mse: 0.4743\n",
      "Epoch 60/100\n",
      "38/38 [==============================] - 0s 303us/step - loss: 0.4739 - mse: 0.4739\n",
      "Epoch 61/100\n",
      "38/38 [==============================] - 0s 304us/step - loss: 0.4722 - mse: 0.4722\n",
      "Epoch 62/100\n",
      "38/38 [==============================] - 0s 285us/step - loss: 0.4819 - mse: 0.4819\n",
      "Epoch 63/100\n",
      "38/38 [==============================] - 0s 297us/step - loss: 0.4732 - mse: 0.4732\n",
      "Epoch 64/100\n",
      "38/38 [==============================] - 0s 303us/step - loss: 0.4682 - mse: 0.4682\n",
      "Epoch 65/100\n",
      "38/38 [==============================] - 0s 298us/step - loss: 0.4763 - mse: 0.4763\n",
      "Epoch 66/100\n",
      "38/38 [==============================] - 0s 315us/step - loss: 0.4644 - mse: 0.4644\n",
      "Epoch 67/100\n",
      "38/38 [==============================] - 0s 288us/step - loss: 0.4690 - mse: 0.4690\n",
      "Epoch 68/100\n",
      "38/38 [==============================] - 0s 302us/step - loss: 0.4816 - mse: 0.4816\n",
      "Epoch 69/100\n",
      "38/38 [==============================] - 0s 296us/step - loss: 0.4837 - mse: 0.4837\n",
      "Epoch 70/100\n",
      "38/38 [==============================] - 0s 290us/step - loss: 0.4721 - mse: 0.4721\n",
      "Epoch 71/100\n",
      "38/38 [==============================] - 0s 296us/step - loss: 0.4678 - mse: 0.4678\n",
      "Epoch 72/100\n",
      "38/38 [==============================] - 0s 297us/step - loss: 0.4714 - mse: 0.4714\n",
      "Epoch 73/100\n",
      "38/38 [==============================] - 0s 299us/step - loss: 0.4644 - mse: 0.4644\n",
      "Epoch 74/100\n",
      "38/38 [==============================] - 0s 287us/step - loss: 0.4668 - mse: 0.4668\n",
      "Epoch 75/100\n",
      "38/38 [==============================] - 0s 293us/step - loss: 0.4645 - mse: 0.4645\n",
      "Epoch 76/100\n",
      "38/38 [==============================] - 0s 294us/step - loss: 0.4781 - mse: 0.4781\n",
      "Epoch 77/100\n",
      "38/38 [==============================] - 0s 288us/step - loss: 0.4710 - mse: 0.4710\n",
      "Epoch 78/100\n",
      "38/38 [==============================] - 0s 298us/step - loss: 0.4675 - mse: 0.4675\n",
      "Epoch 79/100\n",
      "38/38 [==============================] - 0s 302us/step - loss: 0.4642 - mse: 0.4642\n",
      "Epoch 80/100\n",
      "38/38 [==============================] - 0s 296us/step - loss: 0.4653 - mse: 0.4653\n",
      "Epoch 81/100\n",
      "38/38 [==============================] - 0s 285us/step - loss: 0.4661 - mse: 0.4661\n",
      "Epoch 82/100\n",
      "38/38 [==============================] - 0s 302us/step - loss: 0.4685 - mse: 0.4685\n",
      "Epoch 83/100\n",
      "38/38 [==============================] - 0s 324us/step - loss: 0.4631 - mse: 0.4631\n",
      "Epoch 84/100\n",
      "38/38 [==============================] - 0s 296us/step - loss: 0.4601 - mse: 0.4601\n",
      "Epoch 85/100\n"
     ]
    },
    {
     "name": "stdout",
     "output_type": "stream",
     "text": [
      "38/38 [==============================] - 0s 283us/step - loss: 0.4592 - mse: 0.4592\n",
      "Epoch 86/100\n",
      "38/38 [==============================] - 0s 295us/step - loss: 0.4614 - mse: 0.4614\n",
      "Epoch 87/100\n",
      "38/38 [==============================] - 0s 307us/step - loss: 0.4607 - mse: 0.4607\n",
      "Epoch 88/100\n",
      "38/38 [==============================] - 0s 287us/step - loss: 0.4787 - mse: 0.4787\n",
      "Epoch 89/100\n",
      "38/38 [==============================] - 0s 282us/step - loss: 0.4562 - mse: 0.4562\n",
      "Epoch 90/100\n",
      "38/38 [==============================] - 0s 295us/step - loss: 0.4636 - mse: 0.4636\n",
      "Epoch 91/100\n",
      "38/38 [==============================] - 0s 281us/step - loss: 0.4610 - mse: 0.4610\n",
      "Epoch 92/100\n",
      "38/38 [==============================] - 0s 287us/step - loss: 0.4654 - mse: 0.4654\n",
      "Epoch 93/100\n",
      "38/38 [==============================] - 0s 289us/step - loss: 0.4647 - mse: 0.4647\n",
      "Epoch 94/100\n",
      "38/38 [==============================] - 0s 284us/step - loss: 0.4583 - mse: 0.4583\n",
      "Epoch 95/100\n",
      "38/38 [==============================] - 0s 285us/step - loss: 0.4576 - mse: 0.4576\n",
      "Epoch 96/100\n",
      "38/38 [==============================] - 0s 289us/step - loss: 0.4523 - mse: 0.4523\n",
      "Epoch 97/100\n",
      "38/38 [==============================] - 0s 281us/step - loss: 0.4594 - mse: 0.4594\n",
      "Epoch 98/100\n",
      "38/38 [==============================] - 0s 291us/step - loss: 0.4655 - mse: 0.4655\n",
      "Epoch 99/100\n",
      "38/38 [==============================] - 0s 283us/step - loss: 0.4511 - mse: 0.4511\n",
      "Epoch 100/100\n",
      "38/38 [==============================] - 0s 296us/step - loss: 0.4635 - mse: 0.4635\n"
     ]
    }
   ],
   "source": [
    "# Fit the model using 50 epochs and the training data\n",
    "fit_model = nn_model.fit(X_train, y_train, epochs=100)"
   ]
  },
  {
   "cell_type": "markdown",
   "metadata": {
    "id": "ri9vc0sbDhS7"
   },
   "source": [
    "### Step 3: Evaluate the model using the test data to determine the model’s loss and accuracy.\n"
   ]
  },
  {
   "cell_type": "code",
   "execution_count": 21,
   "metadata": {
    "colab": {
     "base_uri": "https://localhost:8080/"
    },
    "id": "zCrm3V33DhS7",
    "outputId": "d9cd7be3-8e33-49c2-fe66-df6909a1ff19"
   },
   "outputs": [
    {
     "name": "stdout",
     "output_type": "stream",
     "text": [
      "13/13 - 0s - loss: 0.3981 - mse: 0.3981 - 54ms/epoch - 4ms/step\n",
      "Loss: 0.3981005847454071, Accuracy: 0.3981005847454071\n"
     ]
    }
   ],
   "source": [
    "# Evaluate the model loss and accuracy metrics using the evaluate method and the test data\n",
    "model_loss, model_accuracy = nn_model.evaluate(X_test,y_test,verbose=2)\n",
    "\n",
    "\n",
    "# Display the model loss and accuracy results\n",
    "print(f\"Loss: {model_loss}, Accuracy: {model_accuracy}\")"
   ]
  },
  {
   "cell_type": "markdown",
   "metadata": {
    "id": "KR_5BmLXDhS7"
   },
   "source": [
    "### Step 4: Save and export your model to an HDF5 file, and name the file `student_loans.h5`.\n"
   ]
  },
  {
   "cell_type": "code",
   "execution_count": 23,
   "metadata": {
    "colab": {
     "base_uri": "https://localhost:8080/"
    },
    "id": "E0GKCWzSDhS7",
    "outputId": "2a6eb887-e687-49cd-dbbe-3ec2e4373aa3"
   },
   "outputs": [],
   "source": [
    "# Set the model's file path\n",
    "\n",
    "file_path = Path(\"saved_models/student_loans.h5\")\n",
    "# Export your model to a HDF5 file\n",
    "nn_model.save(file_path)"
   ]
  },
  {
   "cell_type": "markdown",
   "metadata": {
    "id": "bEZwg5RSDhS7"
   },
   "source": [
    "---\n",
    "## Predict Loan Repayment Success by Using your Neural Network Model"
   ]
  },
  {
   "cell_type": "markdown",
   "metadata": {
    "id": "0S6T507bDhS7"
   },
   "source": [
    "### Step 1: Reload your saved model."
   ]
  },
  {
   "cell_type": "code",
   "execution_count": 24,
   "metadata": {
    "id": "k9qZ481sDhS7"
   },
   "outputs": [],
   "source": [
    "# Set the model's file path\n",
    "file_path_load = Path(\"saved_models/student_loans.h5\")\n",
    "\n",
    "# Load the model to a new object\n",
    "nn_imported = tf.keras.models.load_model(file_path_load)"
   ]
  },
  {
   "cell_type": "markdown",
   "metadata": {
    "id": "P8C4da5qDhS7"
   },
   "source": [
    "### Step 2: Make predictions on the testing data."
   ]
  },
  {
   "cell_type": "code",
   "execution_count": 209,
   "metadata": {
    "colab": {
     "base_uri": "https://localhost:8080/"
    },
    "id": "7UWIWeqLDhS7",
    "outputId": "33504cd9-d587-4a28-97ee-214266330928"
   },
   "outputs": [
    {
     "name": "stdout",
     "output_type": "stream",
     "text": [
      "13/13 [==============================] - 0s 2ms/step\n"
     ]
    }
   ],
   "source": [
    "# Make predictions on the testing data\n",
    "# Make predictions on test data\n",
    "predictions = (nn_imported.predict(X_test_scaled) > 0.5).astype(\"int32\")"
   ]
  },
  {
   "cell_type": "markdown",
   "metadata": {
    "id": "qrDLiDwvDhS7"
   },
   "source": [
    "### Step 3: Create a DataFrame to compare the predictions with the actual values."
   ]
  },
  {
   "cell_type": "code",
   "execution_count": 210,
   "metadata": {
    "id": "apgj4-j2DhS7"
   },
   "outputs": [],
   "source": [
    "# Create a DataFrame to compare the predictions with the actual values\n",
    "results = pd.DataFrame({\"predictions\": predictions.ravel(), \"actual\": y_test})\n"
   ]
  },
  {
   "cell_type": "markdown",
   "metadata": {
    "id": "-COYFo2BDhS7"
   },
   "source": [
    "### Step 4: Display a sample of the DataFrame you created in step 3."
   ]
  },
  {
   "cell_type": "code",
   "execution_count": 211,
   "metadata": {
    "colab": {
     "base_uri": "https://localhost:8080/",
     "height": 206
    },
    "id": "CM8Drd6CDhS_",
    "outputId": "8a8d13e7-57c7-4cbb-a6d6-8a4c991f54b5"
   },
   "outputs": [
    {
     "data": {
      "text/html": [
       "\n",
       "  <div id=\"df-2d49d77a-0be9-4963-9fbc-ffd639f9f7d7\" class=\"colab-df-container\">\n",
       "    <div>\n",
       "<style scoped>\n",
       "    .dataframe tbody tr th:only-of-type {\n",
       "        vertical-align: middle;\n",
       "    }\n",
       "\n",
       "    .dataframe tbody tr th {\n",
       "        vertical-align: top;\n",
       "    }\n",
       "\n",
       "    .dataframe thead th {\n",
       "        text-align: right;\n",
       "    }\n",
       "</style>\n",
       "<table border=\"1\" class=\"dataframe\">\n",
       "  <thead>\n",
       "    <tr style=\"text-align: right;\">\n",
       "      <th></th>\n",
       "      <th>predictions</th>\n",
       "      <th>actual</th>\n",
       "    </tr>\n",
       "  </thead>\n",
       "  <tbody>\n",
       "    <tr>\n",
       "      <th>0</th>\n",
       "      <td>1</td>\n",
       "      <td>5</td>\n",
       "    </tr>\n",
       "    <tr>\n",
       "      <th>1</th>\n",
       "      <td>1</td>\n",
       "      <td>6</td>\n",
       "    </tr>\n",
       "    <tr>\n",
       "      <th>2</th>\n",
       "      <td>1</td>\n",
       "      <td>6</td>\n",
       "    </tr>\n",
       "    <tr>\n",
       "      <th>3</th>\n",
       "      <td>1</td>\n",
       "      <td>6</td>\n",
       "    </tr>\n",
       "    <tr>\n",
       "      <th>4</th>\n",
       "      <td>1</td>\n",
       "      <td>6</td>\n",
       "    </tr>\n",
       "  </tbody>\n",
       "</table>\n",
       "</div>\n",
       "    <div class=\"colab-df-buttons\">\n",
       "\n",
       "  <div class=\"colab-df-container\">\n",
       "    <button class=\"colab-df-convert\" onclick=\"convertToInteractive('df-2d49d77a-0be9-4963-9fbc-ffd639f9f7d7')\"\n",
       "            title=\"Convert this dataframe to an interactive table.\"\n",
       "            style=\"display:none;\">\n",
       "\n",
       "  <svg xmlns=\"http://www.w3.org/2000/svg\" height=\"24px\" viewBox=\"0 -960 960 960\">\n",
       "    <path d=\"M120-120v-720h720v720H120Zm60-500h600v-160H180v160Zm220 220h160v-160H400v160Zm0 220h160v-160H400v160ZM180-400h160v-160H180v160Zm440 0h160v-160H620v160ZM180-180h160v-160H180v160Zm440 0h160v-160H620v160Z\"/>\n",
       "  </svg>\n",
       "    </button>\n",
       "\n",
       "  <style>\n",
       "    .colab-df-container {\n",
       "      display:flex;\n",
       "      gap: 12px;\n",
       "    }\n",
       "\n",
       "    .colab-df-convert {\n",
       "      background-color: #E8F0FE;\n",
       "      border: none;\n",
       "      border-radius: 50%;\n",
       "      cursor: pointer;\n",
       "      display: none;\n",
       "      fill: #1967D2;\n",
       "      height: 32px;\n",
       "      padding: 0 0 0 0;\n",
       "      width: 32px;\n",
       "    }\n",
       "\n",
       "    .colab-df-convert:hover {\n",
       "      background-color: #E2EBFA;\n",
       "      box-shadow: 0px 1px 2px rgba(60, 64, 67, 0.3), 0px 1px 3px 1px rgba(60, 64, 67, 0.15);\n",
       "      fill: #174EA6;\n",
       "    }\n",
       "\n",
       "    .colab-df-buttons div {\n",
       "      margin-bottom: 4px;\n",
       "    }\n",
       "\n",
       "    [theme=dark] .colab-df-convert {\n",
       "      background-color: #3B4455;\n",
       "      fill: #D2E3FC;\n",
       "    }\n",
       "\n",
       "    [theme=dark] .colab-df-convert:hover {\n",
       "      background-color: #434B5C;\n",
       "      box-shadow: 0px 1px 3px 1px rgba(0, 0, 0, 0.15);\n",
       "      filter: drop-shadow(0px 1px 2px rgba(0, 0, 0, 0.3));\n",
       "      fill: #FFFFFF;\n",
       "    }\n",
       "  </style>\n",
       "\n",
       "    <script>\n",
       "      const buttonEl =\n",
       "        document.querySelector('#df-2d49d77a-0be9-4963-9fbc-ffd639f9f7d7 button.colab-df-convert');\n",
       "      buttonEl.style.display =\n",
       "        google.colab.kernel.accessAllowed ? 'block' : 'none';\n",
       "\n",
       "      async function convertToInteractive(key) {\n",
       "        const element = document.querySelector('#df-2d49d77a-0be9-4963-9fbc-ffd639f9f7d7');\n",
       "        const dataTable =\n",
       "          await google.colab.kernel.invokeFunction('convertToInteractive',\n",
       "                                                    [key], {});\n",
       "        if (!dataTable) return;\n",
       "\n",
       "        const docLinkHtml = 'Like what you see? Visit the ' +\n",
       "          '<a target=\"_blank\" href=https://colab.research.google.com/notebooks/data_table.ipynb>data table notebook</a>'\n",
       "          + ' to learn more about interactive tables.';\n",
       "        element.innerHTML = '';\n",
       "        dataTable['output_type'] = 'display_data';\n",
       "        await google.colab.output.renderOutput(dataTable, element);\n",
       "        const docLink = document.createElement('div');\n",
       "        docLink.innerHTML = docLinkHtml;\n",
       "        element.appendChild(docLink);\n",
       "      }\n",
       "    </script>\n",
       "  </div>\n",
       "\n",
       "\n",
       "<div id=\"df-227cf566-d48c-4e9d-ab10-84c0e646e63f\">\n",
       "  <button class=\"colab-df-quickchart\" onclick=\"quickchart('df-227cf566-d48c-4e9d-ab10-84c0e646e63f')\"\n",
       "            title=\"Suggest charts\"\n",
       "            style=\"display:none;\">\n",
       "\n",
       "<svg xmlns=\"http://www.w3.org/2000/svg\" height=\"24px\"viewBox=\"0 0 24 24\"\n",
       "     width=\"24px\">\n",
       "    <g>\n",
       "        <path d=\"M19 3H5c-1.1 0-2 .9-2 2v14c0 1.1.9 2 2 2h14c1.1 0 2-.9 2-2V5c0-1.1-.9-2-2-2zM9 17H7v-7h2v7zm4 0h-2V7h2v10zm4 0h-2v-4h2v4z\"/>\n",
       "    </g>\n",
       "</svg>\n",
       "  </button>\n",
       "\n",
       "<style>\n",
       "  .colab-df-quickchart {\n",
       "      --bg-color: #E8F0FE;\n",
       "      --fill-color: #1967D2;\n",
       "      --hover-bg-color: #E2EBFA;\n",
       "      --hover-fill-color: #174EA6;\n",
       "      --disabled-fill-color: #AAA;\n",
       "      --disabled-bg-color: #DDD;\n",
       "  }\n",
       "\n",
       "  [theme=dark] .colab-df-quickchart {\n",
       "      --bg-color: #3B4455;\n",
       "      --fill-color: #D2E3FC;\n",
       "      --hover-bg-color: #434B5C;\n",
       "      --hover-fill-color: #FFFFFF;\n",
       "      --disabled-bg-color: #3B4455;\n",
       "      --disabled-fill-color: #666;\n",
       "  }\n",
       "\n",
       "  .colab-df-quickchart {\n",
       "    background-color: var(--bg-color);\n",
       "    border: none;\n",
       "    border-radius: 50%;\n",
       "    cursor: pointer;\n",
       "    display: none;\n",
       "    fill: var(--fill-color);\n",
       "    height: 32px;\n",
       "    padding: 0;\n",
       "    width: 32px;\n",
       "  }\n",
       "\n",
       "  .colab-df-quickchart:hover {\n",
       "    background-color: var(--hover-bg-color);\n",
       "    box-shadow: 0 1px 2px rgba(60, 64, 67, 0.3), 0 1px 3px 1px rgba(60, 64, 67, 0.15);\n",
       "    fill: var(--button-hover-fill-color);\n",
       "  }\n",
       "\n",
       "  .colab-df-quickchart-complete:disabled,\n",
       "  .colab-df-quickchart-complete:disabled:hover {\n",
       "    background-color: var(--disabled-bg-color);\n",
       "    fill: var(--disabled-fill-color);\n",
       "    box-shadow: none;\n",
       "  }\n",
       "\n",
       "  .colab-df-spinner {\n",
       "    border: 2px solid var(--fill-color);\n",
       "    border-color: transparent;\n",
       "    border-bottom-color: var(--fill-color);\n",
       "    animation:\n",
       "      spin 1s steps(1) infinite;\n",
       "  }\n",
       "\n",
       "  @keyframes spin {\n",
       "    0% {\n",
       "      border-color: transparent;\n",
       "      border-bottom-color: var(--fill-color);\n",
       "      border-left-color: var(--fill-color);\n",
       "    }\n",
       "    20% {\n",
       "      border-color: transparent;\n",
       "      border-left-color: var(--fill-color);\n",
       "      border-top-color: var(--fill-color);\n",
       "    }\n",
       "    30% {\n",
       "      border-color: transparent;\n",
       "      border-left-color: var(--fill-color);\n",
       "      border-top-color: var(--fill-color);\n",
       "      border-right-color: var(--fill-color);\n",
       "    }\n",
       "    40% {\n",
       "      border-color: transparent;\n",
       "      border-right-color: var(--fill-color);\n",
       "      border-top-color: var(--fill-color);\n",
       "    }\n",
       "    60% {\n",
       "      border-color: transparent;\n",
       "      border-right-color: var(--fill-color);\n",
       "    }\n",
       "    80% {\n",
       "      border-color: transparent;\n",
       "      border-right-color: var(--fill-color);\n",
       "      border-bottom-color: var(--fill-color);\n",
       "    }\n",
       "    90% {\n",
       "      border-color: transparent;\n",
       "      border-bottom-color: var(--fill-color);\n",
       "    }\n",
       "  }\n",
       "</style>\n",
       "\n",
       "  <script>\n",
       "    async function quickchart(key) {\n",
       "      const quickchartButtonEl =\n",
       "        document.querySelector('#' + key + ' button');\n",
       "      quickchartButtonEl.disabled = true;  // To prevent multiple clicks.\n",
       "      quickchartButtonEl.classList.add('colab-df-spinner');\n",
       "      try {\n",
       "        const charts = await google.colab.kernel.invokeFunction(\n",
       "            'suggestCharts', [key], {});\n",
       "      } catch (error) {\n",
       "        console.error('Error during call to suggestCharts:', error);\n",
       "      }\n",
       "      quickchartButtonEl.classList.remove('colab-df-spinner');\n",
       "      quickchartButtonEl.classList.add('colab-df-quickchart-complete');\n",
       "    }\n",
       "    (() => {\n",
       "      let quickchartButtonEl =\n",
       "        document.querySelector('#df-227cf566-d48c-4e9d-ab10-84c0e646e63f button');\n",
       "      quickchartButtonEl.style.display =\n",
       "        google.colab.kernel.accessAllowed ? 'block' : 'none';\n",
       "    })();\n",
       "  </script>\n",
       "</div>\n",
       "    </div>\n",
       "  </div>\n"
      ],
      "text/plain": [
       "   predictions  actual\n",
       "0            1       5\n",
       "1            1       6\n",
       "2            1       6\n",
       "3            1       6\n",
       "4            1       6"
      ]
     },
     "execution_count": 211,
     "metadata": {},
     "output_type": "execute_result"
    }
   ],
   "source": [
    "# Display sample data\n",
    "results.head()"
   ]
  }
 ],
 "metadata": {
  "colab": {
   "provenance": []
  },
  "kernelspec": {
   "display_name": "Python 3 (ipykernel)",
   "language": "python",
   "name": "python3"
  },
  "language_info": {
   "codemirror_mode": {
    "name": "ipython",
    "version": 3
   },
   "file_extension": ".py",
   "mimetype": "text/x-python",
   "name": "python",
   "nbconvert_exporter": "python",
   "pygments_lexer": "ipython3",
   "version": "3.11.5"
  }
 },
 "nbformat": 4,
 "nbformat_minor": 1
}
